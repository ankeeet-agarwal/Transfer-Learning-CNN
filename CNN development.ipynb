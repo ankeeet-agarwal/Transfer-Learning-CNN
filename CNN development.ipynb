{
 "cells": [
  {
   "cell_type": "markdown",
   "metadata": {
    "id": "agA2OphbEJNR"
   },
   "source": [
    "## Import Libraries and load cifar10 dataset."
   ]
  },
  {
   "cell_type": "code",
   "execution_count": 134,
   "metadata": {
    "id": "i2q9GBaJEOKg"
   },
   "outputs": [],
   "source": [
    "import torch\n",
    "import torchvision\n",
    "import torchvision.transforms as transforms\n",
    "import random\n",
    "import numpy as np\n",
    "import matplotlib.pyplot as plt\n",
    "import torch.utils.data as data\n",
    "from torch.utils.data import DataLoader\n",
    "from torchvision.datasets import CIFAR10\n",
    "from sklearn.model_selection import KFold\n"
   ]
  },
  {
   "cell_type": "code",
   "execution_count": 135,
   "metadata": {
    "id": "jrb7ROzAFXIR"
   },
   "outputs": [],
   "source": [
    "def load_cifar10_data(batch_size):\n",
    "# load both training and test datasets, and transform them to tensors.\n",
    "  transform = transforms.Compose(\n",
    "      [transforms.ToTensor(),\n",
    "      transforms.Normalize((0.5, 0.5, 0.5), (0.5, 0.5, 0.5))])\n",
    "\n",
    "  trainset = torchvision.datasets.CIFAR10(root='./data', train=True,\n",
    "                                          download=True, transform=transform)\n",
    "  trainloader = torch.utils.data.DataLoader(trainset, batch_size=batch_size,\n",
    "                                            shuffle=True, num_workers=2)\n",
    "\n",
    "  testset = torchvision.datasets.CIFAR10(root='./data', train=False,\n",
    "                                        download=True, transform=transform)\n",
    "  testloader = torch.utils.data.DataLoader(testset, batch_size=batch_size,\n",
    "                                          shuffle=False, num_workers=2)\n",
    "  \n",
    "  return trainset, trainloader, testloader"
   ]
  },
  {
   "cell_type": "code",
   "execution_count": 136,
   "metadata": {
    "colab": {
     "base_uri": "https://localhost:8080/"
    },
    "id": "mEzcJvqJsESl",
    "outputId": "7a155f1a-0303-4d94-d9e0-12268b62d8b7"
   },
   "outputs": [
    {
     "name": "stdout",
     "output_type": "stream",
     "text": [
      "Files already downloaded and verified\n",
      "Files already downloaded and verified\n"
     ]
    }
   ],
   "source": [
    "batch_size = 4\n",
    "trainset, trainloader, testloader = load_cifar10_data(batch_size)\n",
    "classes = ('plane', 'car', 'bird', 'cat',\n",
    "            'deer', 'dog', 'frog', 'horse', 'ship', 'truck')"
   ]
  },
  {
   "cell_type": "code",
   "execution_count": 137,
   "metadata": {
    "colab": {
     "base_uri": "https://localhost:8080/"
    },
    "id": "ReC3emh2sLC-",
    "outputId": "4d56a855-2b63-4597-de84-5211a0b02765"
   },
   "outputs": [
    {
     "name": "stdout",
     "output_type": "stream",
     "text": [
      "Image batch dimensions: torch.Size([4, 3, 32, 32])\n",
      "Image label dimensions: torch.Size([4])\n"
     ]
    }
   ],
   "source": [
    "# Check the dimensions of a batch:\n",
    "for images, labels in trainloader:  \n",
    "    print('Image batch dimensions:', images.shape)\n",
    "    print('Image label dimensions:', labels.shape)\n",
    "    break"
   ]
  },
  {
   "cell_type": "code",
   "execution_count": 138,
   "metadata": {
    "colab": {
     "base_uri": "https://localhost:8080/",
     "height": 211
    },
    "id": "zhlbwh1432_G",
    "outputId": "a0bb4731-d6ba-4b47-ae74-2d655218c80c"
   },
   "outputs": [
    {
     "data": {
      "image/png": "[encoded data removed]",
      "text/plain": [
       "<Figure size 640x480 with 1 Axes>"
      ]
     },
     "metadata": {},
     "output_type": "display_data"
    },
    {
     "name": "stdout",
     "output_type": "stream",
     "text": [
      "horse cat   car   truck\n"
     ]
    }
   ],
   "source": [
    "def imshow(img):\n",
    "    img = img / 2 + 0.5     # unnormalize\n",
    "    npimg = img.numpy()\n",
    "    plt.imshow(np.transpose(npimg, (1, 2, 0)))\n",
    "    plt.show()\n",
    "\n",
    "\n",
    "# get some random training images\n",
    "dataiter = iter(trainloader)\n",
    "images, labels = next(dataiter)\n",
    "\n",
    "# show images\n",
    "imshow(torchvision.utils.make_grid(images))\n",
    "# print labels\n",
    "print(' '.join(f'{classes[labels[j]]:5s}' for j in range(batch_size)))"
   ]
  },
  {
   "cell_type": "markdown",
   "metadata": {
    "id": "G7q5hfD3qgnB"
   },
   "source": [
    "## Section 1: Define your CNN model\n",
    "Define your xput layer, optimizer and loss criterion"
   ]
  },
  {
   "cell_type": "code",
   "execution_count": 139,
   "metadata": {
    "id": "-nC_P2nlN64b"
   },
   "outputs": [],
   "source": [
    "import torch\n",
    "import torch.nn as nn\n",
    "\n",
    "class CustomCNN(nn.Module):\n",
    "    def __init__(self):\n",
    "        super(CustomCNN, self).__init__()\n",
    "        \n",
    "        # 1st Convolutional layer\n",
    "        self.conv1 = nn.Conv2d(in_channels=3, out_channels=32, kernel_size=3, padding=1)\n",
    "        self.bn1 = nn.BatchNorm2d(num_features=32)\n",
    "        self.relu1 = nn.ReLU()\n",
    "        self.pool1 = nn.MaxPool2d(kernel_size=2, stride=2)\n",
    "        \n",
    "        # 2nd Convolutional layer\n",
    "        self.conv2 = nn.Conv2d(in_channels=32, out_channels=64, kernel_size=3, padding=1)\n",
    "        self.bn2 = nn.BatchNorm2d(num_features=64)\n",
    "        self.relu2 = nn.ReLU()\n",
    "        self.pool2 = nn.MaxPool2d(kernel_size=2, stride=2)\n",
    "        \n",
    "        # 3rd Convolutional layer\n",
    "        self.conv3 = nn.Conv2d(in_channels=64, out_channels=128, kernel_size=3, padding=1)\n",
    "        self.bn3 = nn.BatchNorm2d(num_features=128)\n",
    "        self.relu3 = nn.ReLU()\n",
    "        self.pool3 = nn.MaxPool2d(kernel_size=2, stride=2)\n",
    "        \n",
    "        # 4th Convolutional layer\n",
    "        self.conv4 = nn.Conv2d(in_channels=128, out_channels=256, kernel_size=3, padding=1)\n",
    "        self.bn4 = nn.BatchNorm2d(num_features=256)\n",
    "        self.relu4 = nn.ReLU()\n",
    "        self.pool4 = nn.MaxPool2d(kernel_size=2, stride=2)\n",
    "        \n",
    "        # 1st Fully connected layer\n",
    "        self.fc1 = nn.Linear(in_features=256*2*2, out_features=1024)\n",
    "        self.bn5 = nn.BatchNorm1d(num_features=1024)\n",
    "        self.relu5 = nn.ReLU()\n",
    "        self.dropout1 = nn.Dropout(p=0.5)\n",
    "        \n",
    "        # 2nd Fully connected layer\n",
    "        self.fc2 = nn.Linear(in_features=1024, out_features=512)\n",
    "        self.bn6 = nn.BatchNorm1d(num_features=512)\n",
    "        self.relu6 = nn.ReLU()\n",
    "        self.dropout2 = nn.Dropout(p=0.5)\n",
    "        \n",
    "        # 3rd Fully connected layer\n",
    "        self.fc3 = nn.Linear(in_features=512, out_features=256)\n",
    "        self.bn7 = nn.BatchNorm1d(num_features=256)\n",
    "        self.sig7 = nn.Sigmoid()\n",
    "        self.dropout3 = nn.Dropout(p=0.5)\n",
    "        \n",
    "        # 4th Fully connected layer\n",
    "        self.fc4 = nn.Linear(in_features=256, out_features=10)\n",
    "    \n",
    "    def forward(self, x):\n",
    "        # Forward pass through the 1st Convolutional layer\n",
    "        x = x.to(device='cuda')\n",
    "        x = self.conv1(x)\n",
    "        x = self.bn1(x)\n",
    "        x = self.relu1(x)\n",
    "        x = self.pool1(x)\n",
    "        \n",
    "        # Forward pass through the 2nd Convolutional layer\n",
    "        x = self.conv2(x)\n",
    "        x = self.bn2(x)\n",
    "        x = self.relu2(x)\n",
    "        x = self.pool2(x)\n",
    "        \n",
    "        # Forward pass through the 3rd Convolutional layer\n",
    "        x = self.conv3(x)\n",
    "        x = self.bn3(x)\n",
    "        x = self.relu3(x)\n",
    "        x = self.pool3(x)\n",
    "\n",
    "        # Forward pass through the 4th Convolutional layer\n",
    "        x = self.conv4(x)\n",
    "        x = self.bn4(x)\n",
    "        x = self.relu4(x)\n",
    "        x = self.pool4(x)\n",
    "        \n",
    "        # Flatten the output from the convolutional layers for the fully connected layers\n",
    "        x = torch.flatten(x, start_dim=1)\n",
    "        \n",
    "        # Forward pass through the 1st Fully connected layer\n",
    "        x = self.fc1(x)\n",
    "        x = self.bn5(x)\n",
    "        x = self.relu5(x)\n",
    "        x = self.dropout1(x)\n",
    "        \n",
    "        # Forward pass through the 2nd Fully connected layer\n",
    "        x = self.fc2(x)\n",
    "        x = self.bn6(x)\n",
    "        x = self.relu6(x)\n",
    "        x = self.dropout2(x)\n",
    "        \n",
    "        # Forward pass through the 3rd Fully connected layer\n",
    "        x = self.fc3(x)\n",
    "        x = self.bn7(x)\n",
    "        x = self.sig7(x)\n",
    "        x = self.dropout3(x)\n",
    "        \n",
    "        # Forward pass through the output layer\n",
    "        x = self.fc4(x)\n",
    "        \n",
    "        return x\n",
    "\n",
    "       \n"
   ]
  },
  {
   "cell_type": "code",
   "execution_count": 140,
   "metadata": {
    "id": "JKPAgAlNTLOc"
   },
   "outputs": [],
   "source": [
    "#create model\n",
    "model = CustomCNN()"
   ]
  },
  {
   "cell_type": "markdown",
   "metadata": {
    "id": "_b5K5EtqN64f"
   },
   "source": [
    "## Section 2: Define optimizer and loss criterion"
   ]
  },
  {
   "cell_type": "code",
   "execution_count": 144,
   "metadata": {
    "id": "w7rh7ahDtax_"
   },
   "outputs": [],
   "source": [
    "# Hyperparameters\n",
    "random_seed = random.seed(42)\n",
    "learning_rate = 0.001\n",
    "num_epochs = 5\n",
    "\n",
    "# optimizer\n",
    "optimizer = torch.optim.Adam(model.parameters(), lr=learning_rate)\n",
    "# loss\n",
    "loss_function = nn.CrossEntropyLoss()"
   ]
  },
  {
   "cell_type": "code",
   "execution_count": 145,
   "metadata": {
    "colab": {
     "base_uri": "https://localhost:8080/"
    },
    "id": "eDWLh_4gTQmF",
    "outputId": "11cdd164-95f3-472f-98fb-14c569dab178"
   },
   "outputs": [
    {
     "name": "stdout",
     "output_type": "stream",
     "text": [
      "Device: cuda:0\n"
     ]
    }
   ],
   "source": [
    "DEVICE = torch.device(\"cuda:0\" if torch.cuda.is_available() else \"cpu\")\n",
    "print('Device:', DEVICE)\n",
    "# Set my pretrained model to be run on GPU\n",
    "model = model.to(DEVICE)"
   ]
  },
  {
   "cell_type": "code",
   "execution_count": 146,
   "metadata": {
    "id": "M5axlpHdN64i"
   },
   "outputs": [],
   "source": [
    "def train_model(trainloader, valid_loader, num_epochs, model, optimizer, loss_function):\n",
    "    correct = 0\n",
    "    total = 0\n",
    "    for epoch in range(num_epochs):\n",
    "      # Train the model\n",
    "        model.train()\n",
    "        running_loss = 0.0\n",
    "        for i, data in enumerate(trainloader, 0):\n",
    "            # get the inputs; data is a list of [inputs, labels]\n",
    "            inputs, labels = data\n",
    "            inputs, labels = inputs.to(DEVICE), labels.to(DEVICE)\n",
    "            #Zero out the parameter gradients\n",
    "            optimizer.zero_grad()\n",
    "\n",
    "            # Forward pass\n",
    "            outputs = model(inputs)\n",
    "            loss = loss_function(outputs, labels)\n",
    "\n",
    "            # Backward pass and optimization\n",
    "            loss.backward()\n",
    "            optimizer.step()\n",
    "\n",
    "        # Evaluate the model on the validation set\n",
    "        model.eval()\n",
    "        with torch.no_grad():\n",
    "            total = 0\n",
    "            correct = 0\n",
    "            for inputs, labels in valid_loader:\n",
    "                inputs, labels = inputs.to(DEVICE), labels.to(DEVICE)\n",
    "                              \n",
    "                outputs = model(inputs)\n",
    "\n",
    "            \n",
    "            # Update statistics\n",
    "            running_loss += loss.item() * inputs.size(0)\n",
    "            _, predicted = torch.max(outputs.data, 1)\n",
    "            total += labels.size(0)\n",
    "            correct += (predicted == labels).sum().item()\n",
    "\n",
    "        \n",
    "            print(f\"Epoch: {epoch+1}/{num_epochs}, Train Loss: {running_loss / ((i + 1) * batch_size):.4f}, Train Accuracy: {correct*100/total:.2f}%\")\n",
    "            \n",
    "        \n",
    "\n",
    "\n",
    "\n"
   ]
  },
  {
   "cell_type": "code",
   "execution_count": 147,
   "metadata": {
    "id": "zCBy5FWw8BQH"
   },
   "outputs": [],
   "source": [
    "# Define the number of folds\n",
    "num_folds = 10\n",
    "\n",
    "# Initialize KFold object\n",
    "kf = KFold(n_splits=num_folds, shuffle=True)\n",
    "\n",
    "# Get indices for each fold\n",
    "fold_indices = []\n",
    "for train_indices, valid_indices in kf.split(trainset):\n",
    "    fold_indices.append((train_indices, valid_indices))\n",
    "    "
   ]
  },
  {
   "cell_type": "code",
   "execution_count": 148,
   "metadata": {
    "colab": {
     "base_uri": "https://localhost:8080/"
    },
    "id": "adNScg_38aau",
    "outputId": "6eb46f72-c25d-452f-b5cc-66ca3cad552d"
   },
   "outputs": [
    {
     "name": "stdout",
     "output_type": "stream",
     "text": [
      "Epoch: 1/5, Train Loss: 0.0001, Train Accuracy: 25.00%\n",
      "Epoch: 2/5, Train Loss: 0.0001, Train Accuracy: 50.00%\n",
      "Epoch: 3/5, Train Loss: 0.0001, Train Accuracy: 75.00%\n",
      "Epoch: 4/5, Train Loss: 0.0001, Train Accuracy: 50.00%\n",
      "Epoch: 5/5, Train Loss: 0.0000, Train Accuracy: 75.00%\n",
      "Epoch: 1/5, Train Loss: 0.0001, Train Accuracy: 100.00%\n",
      "Epoch: 2/5, Train Loss: 0.0000, Train Accuracy: 50.00%\n",
      "Epoch: 3/5, Train Loss: 0.0002, Train Accuracy: 50.00%\n",
      "Epoch: 4/5, Train Loss: 0.0001, Train Accuracy: 100.00%\n",
      "Epoch: 5/5, Train Loss: 0.0001, Train Accuracy: 100.00%\n",
      "Epoch: 1/5, Train Loss: 0.0001, Train Accuracy: 75.00%\n",
      "Epoch: 2/5, Train Loss: 0.0003, Train Accuracy: 75.00%\n",
      "Epoch: 3/5, Train Loss: 0.0001, Train Accuracy: 75.00%\n",
      "Epoch: 4/5, Train Loss: 0.0000, Train Accuracy: 75.00%\n",
      "Epoch: 5/5, Train Loss: 0.0000, Train Accuracy: 100.00%\n",
      "Epoch: 1/5, Train Loss: 0.0001, Train Accuracy: 100.00%\n",
      "Epoch: 2/5, Train Loss: 0.0000, Train Accuracy: 100.00%\n",
      "Epoch: 3/5, Train Loss: 0.0001, Train Accuracy: 100.00%\n",
      "Epoch: 4/5, Train Loss: 0.0000, Train Accuracy: 75.00%\n",
      "Epoch: 5/5, Train Loss: 0.0000, Train Accuracy: 50.00%\n",
      "Epoch: 1/5, Train Loss: 0.0000, Train Accuracy: 100.00%\n",
      "Epoch: 2/5, Train Loss: 0.0000, Train Accuracy: 100.00%\n",
      "Epoch: 3/5, Train Loss: 0.0000, Train Accuracy: 75.00%\n",
      "Epoch: 4/5, Train Loss: 0.0002, Train Accuracy: 75.00%\n",
      "Epoch: 5/5, Train Loss: 0.0000, Train Accuracy: 100.00%\n",
      "Epoch: 1/5, Train Loss: 0.0000, Train Accuracy: 100.00%\n",
      "Epoch: 2/5, Train Loss: 0.0001, Train Accuracy: 100.00%\n",
      "Epoch: 3/5, Train Loss: 0.0000, Train Accuracy: 100.00%\n",
      "Epoch: 4/5, Train Loss: 0.0000, Train Accuracy: 100.00%\n",
      "Epoch: 5/5, Train Loss: 0.0000, Train Accuracy: 100.00%\n",
      "Epoch: 1/5, Train Loss: 0.0000, Train Accuracy: 100.00%\n",
      "Epoch: 2/5, Train Loss: 0.0000, Train Accuracy: 75.00%\n",
      "Epoch: 3/5, Train Loss: 0.0000, Train Accuracy: 100.00%\n",
      "Epoch: 4/5, Train Loss: 0.0001, Train Accuracy: 75.00%\n",
      "Epoch: 5/5, Train Loss: 0.0000, Train Accuracy: 100.00%\n",
      "Epoch: 1/5, Train Loss: 0.0000, Train Accuracy: 100.00%\n",
      "Epoch: 2/5, Train Loss: 0.0000, Train Accuracy: 100.00%\n",
      "Epoch: 3/5, Train Loss: 0.0000, Train Accuracy: 100.00%\n",
      "Epoch: 4/5, Train Loss: 0.0001, Train Accuracy: 100.00%\n",
      "Epoch: 5/5, Train Loss: 0.0000, Train Accuracy: 100.00%\n",
      "Epoch: 1/5, Train Loss: 0.0001, Train Accuracy: 75.00%\n",
      "Epoch: 2/5, Train Loss: 0.0000, Train Accuracy: 100.00%\n",
      "Epoch: 3/5, Train Loss: 0.0000, Train Accuracy: 100.00%\n",
      "Epoch: 4/5, Train Loss: 0.0000, Train Accuracy: 100.00%\n",
      "Epoch: 5/5, Train Loss: 0.0000, Train Accuracy: 100.00%\n",
      "Epoch: 1/5, Train Loss: 0.0001, Train Accuracy: 100.00%\n",
      "Epoch: 2/5, Train Loss: 0.0000, Train Accuracy: 100.00%\n",
      "Epoch: 3/5, Train Loss: 0.0000, Train Accuracy: 75.00%\n",
      "Epoch: 4/5, Train Loss: 0.0000, Train Accuracy: 100.00%\n",
      "Epoch: 5/5, Train Loss: 0.0001, Train Accuracy: 100.00%\n"
     ]
    }
   ],
   "source": [
    "# Iterate over each fold and train the model\n",
    "for i, (train_indices, valid_indices) in enumerate(fold_indices):\n",
    "    # Create data loaders for the current fold\n",
    "    train_sampler = data.SubsetRandomSampler(train_indices)\n",
    "    valid_sampler = data.SubsetRandomSampler(valid_indices)\n",
    "    train_loader = data.DataLoader(trainset, batch_size=batch_size, sampler=train_sampler)\n",
    "    valid_loader = data.DataLoader(trainset, batch_size=batch_size, sampler=valid_sampler)\n",
    "    train_model(train_loader, valid_loader, num_epochs, model, optimizer, loss_function)"
   ]
  },
  {
   "cell_type": "markdown",
   "metadata": {
    "id": "eSDCENqHN64j"
   },
   "source": [
    "## Section 3: Test your model"
   ]
  },
  {
   "cell_type": "code",
   "execution_count": 149,
   "metadata": {
    "id": "4wR4Xa2xN64j"
   },
   "outputs": [],
   "source": [
    "dataiter = iter(testloader)\n",
    "images, labels = next(dataiter)"
   ]
  },
  {
   "cell_type": "code",
   "execution_count": 150,
   "metadata": {
    "colab": {
     "base_uri": "https://localhost:8080/"
    },
    "id": "Cqlv8i7fN64j",
    "outputId": "71ed81a6-456d-4bf4-a579-ce9c7d063544"
   },
   "outputs": [
    {
     "name": "stdout",
     "output_type": "stream",
     "text": [
      "Accuracy of the network on the 10000 test images: 78 %\n"
     ]
    }
   ],
   "source": [
    "#Test for the entire dataset\n",
    "\n",
    "correct = 0\n",
    "total = 0\n",
    "# since we're not training, we don't need to calculate the gradients for our xputs\n",
    "with torch.no_grad():\n",
    "    for data in testloader:\n",
    "        images, labels = data\n",
    "        images, labels = images.to(DEVICE), labels.to(DEVICE)\n",
    "        # calculate xputs by running images through the network\n",
    "        xputs = model(images)\n",
    "        # the class with the highest energy is what we choose as prediction\n",
    "        _, predicted = torch.max(xputs.data, 1)\n",
    "        total += labels.size(0)\n",
    "        correct += (predicted == labels).sum().item()\n",
    "\n",
    "print(f'Accuracy of the network on the 10000 test images: {100 * correct // total} %')"
   ]
  }
 ],
 "metadata": {
  "accelerator": "GPU",
  "colab": {
   "provenance": []
  },
  "gpuClass": "standard",
  "kernelspec": {
   "display_name": "Python 3 (ipykernel)",
   "language": "python",
   "name": "python3"
  },
  "language_info": {
   "codemirror_mode": {
    "name": "ipython",
    "version": 3
   },
   "file_extension": ".py",
   "mimetype": "text/x-python",
   "name": "python",
   "nbconvert_exporter": "python",
   "pygments_lexer": "ipython3",
   "version": "3.9.12"
  }
 },
 "nbformat": 4,
 "nbformat_minor": 1
}
